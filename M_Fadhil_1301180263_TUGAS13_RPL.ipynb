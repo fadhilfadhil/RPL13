{
  "nbformat": 4,
  "nbformat_minor": 0,
  "metadata": {
    "colab": {
      "name": "M Fadhil-1301180263-TUGAS13 RPL.ipynb",
      "provenance": [],
      "collapsed_sections": []
    },
    "kernelspec": {
      "name": "python3",
      "display_name": "Python 3"
    },
    "language_info": {
      "name": "python"
    }
  },
  "cells": [
    {
      "cell_type": "code",
      "metadata": {
        "id": "xxfR-jTE0LmY"
      },
      "source": [
        "def segitiga():  \n",
        "  bilangan = []\n",
        "  for i in ['A','B','C']:\n",
        "    bilangan.append( float (input(f'Masukan nilai bilangan {i} :')))\n",
        "\n",
        "  bilangan.sort()\n",
        "  bilangan = [round(num) for num in bilangan]\n",
        "\n",
        "  if (bilangan[2] >= (bilangan[1]+bilangan[0])):\n",
        "    print('Tidak ada segitiga yang dapat dibangun')\n",
        "  else:\n",
        "    if ( bilangan[0]==bilangan[1]==bilangan[2] ):\n",
        "      print('Segitiga SAMA SISI')\n",
        "    elif ( (bilangan[0]==bilangan[1]) or (bilangan[0]==bilangan[2]) or (bilangan[1]==bilangan[2]) ):\n",
        "      print('Segitiga SAMA KAKI')\n",
        "    elif ( (bilangan[2]**2) == ((bilangan[0]**2)+(bilangan[1]**2)) ):\n",
        "      print('Segitiga SIKU-SIKU')\n",
        "    else:\n",
        "      print('Segitiga BEBAS')"
      ],
      "execution_count": 2,
      "outputs": []
    },
    {
      "cell_type": "code",
      "metadata": {
        "colab": {
          "base_uri": "https://localhost:8080/"
        },
        "id": "QTVUOcMjdgXE",
        "outputId": "ad2826f7-10a1-4bb7-c7c4-0bc377a20193"
      },
      "source": [
        "for i in range(5):\n",
        "  print(f'====Percobaan Ke {i+1}=====')\n",
        "  segitiga()"
      ],
      "execution_count": 3,
      "outputs": [
        {
          "output_type": "stream",
          "text": [
            "====Percobaan Ke 1=====\n",
            "Masukan nilai bilangan A :200\n",
            "Masukan nilai bilangan B :5\n",
            "Masukan nilai bilangan C :5\n",
            "Tidak ada segitiga yang dapat dibangun\n",
            "====Percobaan Ke 2=====\n",
            "Masukan nilai bilangan A :6\n",
            "Masukan nilai bilangan B :6\n",
            "Masukan nilai bilangan C :6.02\n",
            "Segitiga SAMA SISI\n",
            "====Percobaan Ke 3=====\n",
            "Masukan nilai bilangan A :5.01\n",
            "Masukan nilai bilangan B :4.99\n",
            "Masukan nilai bilangan C :2\n",
            "Segitiga SAMA KAKI\n",
            "====Percobaan Ke 4=====\n",
            "Masukan nilai bilangan A :3\n",
            "Masukan nilai bilangan B :4\n",
            "Masukan nilai bilangan C :5\n",
            "Segitiga SIKU-SIKU\n",
            "====Percobaan Ke 5=====\n",
            "Masukan nilai bilangan A :3\n",
            "Masukan nilai bilangan B :4\n",
            "Masukan nilai bilangan C :6\n",
            "Segitiga BEBAS\n"
          ],
          "name": "stdout"
        }
      ]
    }
  ]
}